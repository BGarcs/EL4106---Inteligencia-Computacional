{
  "nbformat": 4,
  "nbformat_minor": 0,
  "metadata": {
    "colab": {
      "name": "Tarea3_IC.ipynb",
      "provenance": [],
      "collapsed_sections": []
    },
    "kernelspec": {
      "name": "python3",
      "display_name": "Python 3"
    },
    "language_info": {
      "name": "python"
    }
  },
  "cells": [
    {
      "cell_type": "markdown",
      "metadata": {
        "id": "t2pcZ2OrNJIS"
      },
      "source": [
        "Tarea 3 Inteligencia computacional\n",
        "\n",
        "Bastián Garcés"
      ]
    },
    {
      "cell_type": "code",
      "metadata": {
        "id": "BG29H5CFMLJQ"
      },
      "source": [
        "%matplotlib inline\n",
        "import pandas as pd\n",
        "import numpy as np\n",
        "import matplotlib.pyplot as plt\n",
        "import seaborn as sns\n",
        "import math\n",
        "import time\n",
        "import sklearn.preprocessing\n",
        "import sklearn.svm \n",
        "import sklearn.model_selection\n",
        "import sklearn.metrics\n",
        "from scipy.io import arff\n",
        "import sklearn.feature_selection\n",
        "import sklearn.ensemble"
      ],
      "execution_count": 48,
      "outputs": []
    },
    {
      "cell_type": "code",
      "metadata": {
        "colab": {
          "resources": {
            "http://localhost:8080/nbextensions/google.colab/files.js": {
              "data": "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",
              "ok": true,
              "headers": [
                [
                  "content-type",
                  "application/javascript"
                ]
              ],
              "status": 200,
              "status_text": ""
            }
          },
          "base_uri": "https://localhost:8080/",
          "height": 72
        },
        "id": "c_PM_05JNSGJ",
        "outputId": "24ea5646-1bd6-4a5e-b2a4-e4a52ee6da6f"
      },
      "source": [
        "from google.colab import files\n",
        "uploaded = files.upload()"
      ],
      "execution_count": 49,
      "outputs": [
        {
          "output_type": "display_data",
          "data": {
            "text/html": [
              "\n",
              "     <input type=\"file\" id=\"files-c366d449-c435-453c-aa0a-93320f32a703\" name=\"files[]\" multiple disabled\n",
              "        style=\"border:none\" />\n",
              "     <output id=\"result-c366d449-c435-453c-aa0a-93320f32a703\">\n",
              "      Upload widget is only available when the cell has been executed in the\n",
              "      current browser session. Please rerun this cell to enable.\n",
              "      </output>\n",
              "      <script src=\"/nbextensions/google.colab/files.js\"></script> "
            ],
            "text/plain": [
              "<IPython.core.display.HTML object>"
            ]
          },
          "metadata": {
            "tags": []
          }
        },
        {
          "output_type": "stream",
          "text": [
            "Saving diabetes.arff to diabetes.arff\n"
          ],
          "name": "stdout"
        }
      ]
    },
    {
      "cell_type": "markdown",
      "metadata": {
        "id": "N-ZWP0cHP9Y7"
      },
      "source": [
        "Parte 1\n",
        "\n",
        "\n",
        "---\n",
        "\n",
        "\n",
        "> Actividad B\n",
        "\n"
      ]
    },
    {
      "cell_type": "code",
      "metadata": {
        "id": "gidH7UR5NYVX"
      },
      "source": [
        "data = arff.loadarff('diabetes.arff')\n",
        "df = pd.DataFrame(data[0])\n",
        "nombres = df.columns"
      ],
      "execution_count": 50,
      "outputs": []
    },
    {
      "cell_type": "code",
      "metadata": {
        "id": "-sWNDUrVOi6f",
        "colab": {
          "base_uri": "https://localhost:8080/",
          "height": 419
        },
        "outputId": "a18499c8-4d3d-402b-ad7c-633c3d5a02b5"
      },
      "source": [
        "df"
      ],
      "execution_count": 51,
      "outputs": [
        {
          "output_type": "execute_result",
          "data": {
            "text/html": [
              "<div>\n",
              "<style scoped>\n",
              "    .dataframe tbody tr th:only-of-type {\n",
              "        vertical-align: middle;\n",
              "    }\n",
              "\n",
              "    .dataframe tbody tr th {\n",
              "        vertical-align: top;\n",
              "    }\n",
              "\n",
              "    .dataframe thead th {\n",
              "        text-align: right;\n",
              "    }\n",
              "</style>\n",
              "<table border=\"1\" class=\"dataframe\">\n",
              "  <thead>\n",
              "    <tr style=\"text-align: right;\">\n",
              "      <th></th>\n",
              "      <th>preg</th>\n",
              "      <th>plas</th>\n",
              "      <th>pres</th>\n",
              "      <th>skin</th>\n",
              "      <th>insu</th>\n",
              "      <th>mass</th>\n",
              "      <th>pedi</th>\n",
              "      <th>age</th>\n",
              "      <th>class</th>\n",
              "    </tr>\n",
              "  </thead>\n",
              "  <tbody>\n",
              "    <tr>\n",
              "      <th>0</th>\n",
              "      <td>6.0</td>\n",
              "      <td>148.0</td>\n",
              "      <td>72.0</td>\n",
              "      <td>35.0</td>\n",
              "      <td>0.0</td>\n",
              "      <td>33.6</td>\n",
              "      <td>0.627</td>\n",
              "      <td>50.0</td>\n",
              "      <td>b'tested_positive'</td>\n",
              "    </tr>\n",
              "    <tr>\n",
              "      <th>1</th>\n",
              "      <td>1.0</td>\n",
              "      <td>85.0</td>\n",
              "      <td>66.0</td>\n",
              "      <td>29.0</td>\n",
              "      <td>0.0</td>\n",
              "      <td>26.6</td>\n",
              "      <td>0.351</td>\n",
              "      <td>31.0</td>\n",
              "      <td>b'tested_negative'</td>\n",
              "    </tr>\n",
              "    <tr>\n",
              "      <th>2</th>\n",
              "      <td>8.0</td>\n",
              "      <td>183.0</td>\n",
              "      <td>64.0</td>\n",
              "      <td>0.0</td>\n",
              "      <td>0.0</td>\n",
              "      <td>23.3</td>\n",
              "      <td>0.672</td>\n",
              "      <td>32.0</td>\n",
              "      <td>b'tested_positive'</td>\n",
              "    </tr>\n",
              "    <tr>\n",
              "      <th>3</th>\n",
              "      <td>1.0</td>\n",
              "      <td>89.0</td>\n",
              "      <td>66.0</td>\n",
              "      <td>23.0</td>\n",
              "      <td>94.0</td>\n",
              "      <td>28.1</td>\n",
              "      <td>0.167</td>\n",
              "      <td>21.0</td>\n",
              "      <td>b'tested_negative'</td>\n",
              "    </tr>\n",
              "    <tr>\n",
              "      <th>4</th>\n",
              "      <td>0.0</td>\n",
              "      <td>137.0</td>\n",
              "      <td>40.0</td>\n",
              "      <td>35.0</td>\n",
              "      <td>168.0</td>\n",
              "      <td>43.1</td>\n",
              "      <td>2.288</td>\n",
              "      <td>33.0</td>\n",
              "      <td>b'tested_positive'</td>\n",
              "    </tr>\n",
              "    <tr>\n",
              "      <th>...</th>\n",
              "      <td>...</td>\n",
              "      <td>...</td>\n",
              "      <td>...</td>\n",
              "      <td>...</td>\n",
              "      <td>...</td>\n",
              "      <td>...</td>\n",
              "      <td>...</td>\n",
              "      <td>...</td>\n",
              "      <td>...</td>\n",
              "    </tr>\n",
              "    <tr>\n",
              "      <th>763</th>\n",
              "      <td>10.0</td>\n",
              "      <td>101.0</td>\n",
              "      <td>76.0</td>\n",
              "      <td>48.0</td>\n",
              "      <td>180.0</td>\n",
              "      <td>32.9</td>\n",
              "      <td>0.171</td>\n",
              "      <td>63.0</td>\n",
              "      <td>b'tested_negative'</td>\n",
              "    </tr>\n",
              "    <tr>\n",
              "      <th>764</th>\n",
              "      <td>2.0</td>\n",
              "      <td>122.0</td>\n",
              "      <td>70.0</td>\n",
              "      <td>27.0</td>\n",
              "      <td>0.0</td>\n",
              "      <td>36.8</td>\n",
              "      <td>0.340</td>\n",
              "      <td>27.0</td>\n",
              "      <td>b'tested_negative'</td>\n",
              "    </tr>\n",
              "    <tr>\n",
              "      <th>765</th>\n",
              "      <td>5.0</td>\n",
              "      <td>121.0</td>\n",
              "      <td>72.0</td>\n",
              "      <td>23.0</td>\n",
              "      <td>112.0</td>\n",
              "      <td>26.2</td>\n",
              "      <td>0.245</td>\n",
              "      <td>30.0</td>\n",
              "      <td>b'tested_negative'</td>\n",
              "    </tr>\n",
              "    <tr>\n",
              "      <th>766</th>\n",
              "      <td>1.0</td>\n",
              "      <td>126.0</td>\n",
              "      <td>60.0</td>\n",
              "      <td>0.0</td>\n",
              "      <td>0.0</td>\n",
              "      <td>30.1</td>\n",
              "      <td>0.349</td>\n",
              "      <td>47.0</td>\n",
              "      <td>b'tested_positive'</td>\n",
              "    </tr>\n",
              "    <tr>\n",
              "      <th>767</th>\n",
              "      <td>1.0</td>\n",
              "      <td>93.0</td>\n",
              "      <td>70.0</td>\n",
              "      <td>31.0</td>\n",
              "      <td>0.0</td>\n",
              "      <td>30.4</td>\n",
              "      <td>0.315</td>\n",
              "      <td>23.0</td>\n",
              "      <td>b'tested_negative'</td>\n",
              "    </tr>\n",
              "  </tbody>\n",
              "</table>\n",
              "<p>768 rows × 9 columns</p>\n",
              "</div>"
            ],
            "text/plain": [
              "     preg   plas  pres  skin   insu  mass   pedi   age               class\n",
              "0     6.0  148.0  72.0  35.0    0.0  33.6  0.627  50.0  b'tested_positive'\n",
              "1     1.0   85.0  66.0  29.0    0.0  26.6  0.351  31.0  b'tested_negative'\n",
              "2     8.0  183.0  64.0   0.0    0.0  23.3  0.672  32.0  b'tested_positive'\n",
              "3     1.0   89.0  66.0  23.0   94.0  28.1  0.167  21.0  b'tested_negative'\n",
              "4     0.0  137.0  40.0  35.0  168.0  43.1  2.288  33.0  b'tested_positive'\n",
              "..    ...    ...   ...   ...    ...   ...    ...   ...                 ...\n",
              "763  10.0  101.0  76.0  48.0  180.0  32.9  0.171  63.0  b'tested_negative'\n",
              "764   2.0  122.0  70.0  27.0    0.0  36.8  0.340  27.0  b'tested_negative'\n",
              "765   5.0  121.0  72.0  23.0  112.0  26.2  0.245  30.0  b'tested_negative'\n",
              "766   1.0  126.0  60.0   0.0    0.0  30.1  0.349  47.0  b'tested_positive'\n",
              "767   1.0   93.0  70.0  31.0    0.0  30.4  0.315  23.0  b'tested_negative'\n",
              "\n",
              "[768 rows x 9 columns]"
            ]
          },
          "metadata": {
            "tags": []
          },
          "execution_count": 51
        }
      ]
    },
    {
      "cell_type": "code",
      "metadata": {
        "id": "jVC1gdXdbNRQ",
        "colab": {
          "base_uri": "https://localhost:8080/"
        },
        "outputId": "0f0b75dc-5669-4d35-ef8a-71912ac39b03"
      },
      "source": [
        "#En el dataframe df cambiamos la clase como:\n",
        "#Un 1 si la persona dio positivo o un 0 sino\n",
        "df.loc[df['class'] == b'tested_negative', 'class'] = 0\n",
        "df.loc[df['class'] == b'tested_positive', 'class'] = 1\n",
        "\n",
        "#Definimos los conjuntos\n",
        "Entrena, Otro = sklearn.model_selection.train_test_split(df, test_size=0.4)\n",
        "Vali, Test = sklearn.model_selection.train_test_split(Otro, test_size=0.5)\n",
        "\n",
        "Entrena.reset_index(drop=True)\n",
        "Vali.reset_index(drop=True)\n",
        "Test.reset_index(drop=True)\n",
        "print('')"
      ],
      "execution_count": 52,
      "outputs": [
        {
          "output_type": "stream",
          "text": [
            "\n"
          ],
          "name": "stdout"
        }
      ]
    },
    {
      "cell_type": "markdown",
      "metadata": {
        "id": "jICnsGghHYSB"
      },
      "source": [
        "\n",
        "> Actividad C\n"
      ]
    },
    {
      "cell_type": "code",
      "metadata": {
        "id": "8k149p94HXiP"
      },
      "source": [
        "#Creamos el StandardScaler\n",
        "scaler = sklearn.preprocessing.StandardScaler()\n",
        "\n",
        "#Entrenamos el scaler en el conjunto de entrenamient\n",
        "scaler.fit(Entrena.iloc[:,:8])\n",
        "\n",
        "#Aplicamos el scaler a los conjuntos\n",
        "S_Entrena = scaler.transform(Entrena.iloc[:,:8])\n",
        "S_Vali = scaler.transform(Vali.iloc[:,:8])\n",
        "S_Test = scaler.transform(Test.iloc[:,:8])\n",
        "\n",
        "#Obtenemos la columna class de cada conjunto\n",
        "Entrena_class = np.array(Entrena['class'], dtype='int64')\n",
        "Vali_class = np.array(Vali['class'], dtype='int64')\n",
        "Test_class = np.array(Test['class'], dtype='int64')\n"
      ],
      "execution_count": 53,
      "outputs": []
    },
    {
      "cell_type": "markdown",
      "metadata": {
        "id": "41VbDfGaJG3I"
      },
      "source": [
        "\n",
        "\n",
        "> Actividad D\n",
        "\n",
        "\n",
        "\n"
      ]
    },
    {
      "cell_type": "code",
      "metadata": {
        "colab": {
          "base_uri": "https://localhost:8080/"
        },
        "id": "aj6eY6fhJPRJ",
        "outputId": "dfb499f4-90bb-41ae-809b-789c50fabcab"
      },
      "source": [
        "#Antes de crear el GridSearch concatenamos conjunto de entrenamiento y de validacion\n",
        "Entrena_Vali = np.concatenate([S_Entrena, S_Vali])\n",
        "Entrena_Vali_class = np.concatenate([Entrena_class, Vali_class])\n",
        "\n",
        "#Vemos que indices del conjunto Entrena_Vali pertenecen al conjunto de entrenamiento\n",
        "index = np.zeros(Entrena.shape[0]+Vali.shape[0])\n",
        "for i in range(Entrena.shape[0]):\n",
        "  index[i] = -1\n",
        "\n",
        "#Definimos el predifinedSplit\n",
        "ps = sklearn.model_selection.PredefinedSplit(index)\n",
        "\n",
        "#Creamos el SVM lineal\n",
        "SVM_lin = sklearn.svm.SVC(kernel='linear', probability=False)\n",
        "#Creamos el gridSearch\n",
        "grid_lin = sklearn.model_selection.GridSearchCV(estimator=SVM_lin, param_grid={'C' : [0.0001, 0.001, 0.1]}, cv=ps)\n",
        "\n",
        "time0 = time.time() #<-- Inicio del entrenamiento\n",
        "#Entrenamos el grid con el conjunto de entrenamiento y validacion concatenados\n",
        "grid_lin.fit(Entrena_Vali, Entrena_Vali_class)\n",
        "time1 = time.time() #<- Final del entrenamiento\n",
        "\n",
        "#Vemos los hiperparametros del grid\n",
        "print('Los mejores hiperparametros son: '+str(grid_lin.best_params_))\n",
        "#Vemos el score\n",
        "print('El score es: '+str(grid_lin.best_score_))\n",
        "#Vemos el tiempo de entrenamiento\n",
        "tiempo = time1-time0\n",
        "print('El tiempo de entrenamiento es: '+str(tiempo))\n",
        "\n",
        "#El mejor estimador es:\n",
        "estim_lin = grid_lin.best_estimator_"
      ],
      "execution_count": 54,
      "outputs": [
        {
          "output_type": "stream",
          "text": [
            "Los mejores hiperparametros son: {'C': 0.1}\n",
            "El score es: 0.7272727272727273\n",
            "El tiempo de entrenamiento es: 0.02456045150756836\n"
          ],
          "name": "stdout"
        }
      ]
    },
    {
      "cell_type": "markdown",
      "metadata": {
        "id": "akWeM61Pf_cL"
      },
      "source": [
        "\n",
        "\n",
        "> Actividad E\n"
      ]
    },
    {
      "cell_type": "code",
      "metadata": {
        "id": "yBA1m60YgFo6",
        "colab": {
          "base_uri": "https://localhost:8080/",
          "height": 282
        },
        "outputId": "239b5744-6b00-446a-a83a-b7d53c4e316f"
      },
      "source": [
        "#Obtenemos la prediccion del clasificador sobre el conjunto de validacion\n",
        "predi_vali_lin = estim_lin.predict(S_Vali)\n",
        "\n",
        "#Obtenemos la matriz de confusión\n",
        "Confu = sklearn.metrics.confusion_matrix(Vali_class, predi_vali_lin, normalize='true')\n",
        "\n",
        "#Mostramos la matriz de confusion\n",
        "matrix = sns.heatmap(Confu, annot=True)\n",
        "\n",
        "#Obtenemos el accuracy del SVM lineal\n",
        "accuracy_lin = sklearn.metrics.accuracy_score(Vali_class, predi_vali_lin)\n",
        "                                     \n",
        "print('El accuracy es: '+str(accuracy_lin))"
      ],
      "execution_count": 55,
      "outputs": [
        {
          "output_type": "stream",
          "text": [
            "El accuracy es: 0.7272727272727273\n"
          ],
          "name": "stdout"
        },
        {
          "output_type": "display_data",
          "data": {
            "image/png": "[encoded data removed]",
            "text/plain": [
              "<Figure size 432x288 with 2 Axes>"
            ]
          },
          "metadata": {
            "tags": [],
            "needs_background": "light"
          }
        }
      ]
    },
    {
      "cell_type": "markdown",
      "metadata": {
        "id": "5yyuDLMlVJEC"
      },
      "source": [
        "\n",
        "\n",
        "> Actividad F\n"
      ]
    },
    {
      "cell_type": "code",
      "metadata": {
        "colab": {
          "base_uri": "https://localhost:8080/"
        },
        "id": "8yzaEhnLVN1q",
        "outputId": "f57dd329-e211-4f46-f43f-ff28b02b3d29"
      },
      "source": [
        "#Hacemos el Model\n",
        "model_lin = sklearn.feature_selection.SelectFromModel(estim_lin)\n",
        "#Entrenamos el modelo con el conjunto de entrenamiento\n",
        "model_lin.fit(S_Entrena, Entrena_class)\n",
        "\n",
        "#Obtenemos las caracteristicas seleccionadas\n",
        "caracte_lin = model_lin.get_support(indices=False) #<- Array que indica las caracteristicas consideradas\n",
        "\n",
        "#Recorremos la lista de caracteristicas seleccionadas y las añadimos a una lista donde se consideran\n",
        "#solo a las caracteristicas seleccionadas\n",
        "select_carac_lin = []\n",
        "for i in range(len(caracte_lin)):\n",
        "  if caracte_lin[i] == True:\n",
        "    select_carac_lin.append(nombres[i])\n",
        "print('Las caracteristicas seleccionadas son: '+str(select_carac_lin))"
      ],
      "execution_count": 56,
      "outputs": [
        {
          "output_type": "stream",
          "text": [
            "Las caracteristicas seleccionadas son: ['plas', 'mass']\n"
          ],
          "name": "stdout"
        }
      ]
    },
    {
      "cell_type": "markdown",
      "metadata": {
        "id": "Iga2fQVtOV3L"
      },
      "source": [
        "\n",
        "\n",
        "> Actividad G\n",
        "\n"
      ]
    },
    {
      "cell_type": "code",
      "metadata": {
        "colab": {
          "base_uri": "https://localhost:8080/"
        },
        "id": "NqvvX21AOZ-h",
        "outputId": "c472d360-b661-4a63-84e4-24b3c2f87eb7"
      },
      "source": [
        "#Obtenemos los distintos conjuntos con las caracteristicas reducidas\n",
        "Entrena_Vali_redu = model_lin.transform(Entrena_Vali) #<--- Entrenamiento y validacion concatenados\n",
        "Vali_redu = model_lin.transform(S_Vali) #<----- Conjunto de validacion\n",
        "Test_redu = model_lin.transform(S_Test) #<----- Conjunto de prueba\n",
        "\n",
        "#Reentrenamos con el conjunto reducido\n",
        "SVM_lin2 = sklearn.svm.SVC(kernel='linear', probability=False)\n",
        "grid_lin2 = sklearn.model_selection.GridSearchCV(SVM_lin2, param_grid={'C' : [0.0001, 0.001, 0.1]}, cv=ps) \n",
        "\n",
        "time2 = time.time() #<------- Inicio del entrenamiento\n",
        "grid_lin2.fit(Entrena_Vali_redu, Entrena_Vali_class)\n",
        "time3 = time.time() #<-------- Final del entrenamiento\n",
        "\n",
        "#Vemos los hiperparametros del grid\n",
        "print('Los mejores hiperparametros son: '+str(grid_lin2.best_params_))\n",
        "#Vemos el score\n",
        "print('El score es: '+str(grid_lin2.best_score_))\n",
        "#Vemos el tiempo de entrenamiento\n",
        "tiempo1 = time3-time2\n",
        "print('El tiempo de entrenamiento es de: '+str(tiempo1))\n",
        "\n",
        "#Obtenemos el mejor estimador\n",
        "estim_lin2 = grid_lin2.best_estimator_"
      ],
      "execution_count": 57,
      "outputs": [
        {
          "output_type": "stream",
          "text": [
            "Los mejores hiperparametros son: {'C': 0.1}\n",
            "El score es: 0.7142857142857143\n",
            "El tiempo de entrenamiento es de: 0.015648841857910156\n"
          ],
          "name": "stdout"
        }
      ]
    },
    {
      "cell_type": "markdown",
      "metadata": {
        "id": "rLp0cgWIQ9mf"
      },
      "source": [
        "\n",
        "\n",
        "> Actividad H\n",
        "\n"
      ]
    },
    {
      "cell_type": "code",
      "metadata": {
        "colab": {
          "base_uri": "https://localhost:8080/",
          "height": 302
        },
        "id": "dK4ZXQYeQ8_x",
        "outputId": "cf7ab488-533b-49ee-c740-d50e9c349bc3"
      },
      "source": [
        "#Obtenemos la prediccion del clasificador sobre el conjunto de validacion\n",
        "predi_vali_lin2 = estim_lin2.predict(Vali_redu)\n",
        "\n",
        "#Obtenemos la matriz de confusión\n",
        "Confu2 = sklearn.metrics.confusion_matrix(Vali_class, predi_vali_lin2, normalize='true')\n",
        "\n",
        "#Mostramos la matriz de confusion\n",
        "matrix2 = sns.heatmap(Confu2, annot=True)\n",
        "\n",
        "#Obtenemos el accuracy del SVM lineal\n",
        "accuracy_lin2 = sklearn.metrics.accuracy_score(Vali_class, predi_vali_lin2)\n",
        "                                              \n",
        "print('El accuracy al usar un conjunto con las caracteristicas reducidas es: '+str(accuracy_lin2))"
      ],
      "execution_count": 58,
      "outputs": [
        {
          "output_type": "stream",
          "text": [
            "El accuracy al usar un conjunto con las caracteristicas reducidas es: 0.7012987012987013\n"
          ],
          "name": "stdout"
        },
        {
          "output_type": "display_data",
          "data": {
            "image/png": "[encoded data removed]",
            "text/plain": [
              "<Figure size 432x288 with 2 Axes>"
            ]
          },
          "metadata": {
            "tags": [],
            "needs_background": "light"
          }
        }
      ]
    },
    {
      "cell_type": "markdown",
      "metadata": {
        "id": "3UqvSfA-TI_n"
      },
      "source": [
        "\n",
        "\n",
        "> Actividad I\n",
        "\n"
      ]
    },
    {
      "cell_type": "code",
      "metadata": {
        "colab": {
          "base_uri": "https://localhost:8080/",
          "height": 370
        },
        "id": "u7UMLrYbTMyU",
        "outputId": "56a193ef-2f23-4a6d-96ff-864b852167c1"
      },
      "source": [
        "#Obtenemos el conjunto de caracteristicas (4)\n",
        "SelectKBest4 = sklearn.feature_selection.SelectKBest(k=4).fit(S_Entrena, Entrena_class)\n",
        "caract_KBest4 = SelectKBest4.get_support(indices=False) #<--- Array que indica las caracteristicas consideradas\n",
        "#Recorremos la lista de caracteristicas seleccionadas y las añadimos a una lista donde se consideran\n",
        "#solo a las caracteristicas seleccionadas\n",
        "select_carac_KBest4 = []\n",
        "for i in range(len(caract_KBest4)):\n",
        "  if caract_KBest4[i] == True:\n",
        "    select_carac_KBest4.append(nombres[i])\n",
        "print('Las caracteristicas seleccionadas son: '+str(select_carac_KBest4))\n",
        "\n",
        "#Obtenemos los distintos conjuntos con las caracteristicas reducidas\n",
        "Entrena_Vali_redu_KBest4 = SelectKBest4.transform(Entrena_Vali) #<--- Entrenamiento y validacion concatenados\n",
        "Vali_redu_KBest4 = SelectKBest4.transform(S_Vali) #<----- Conjunto de validacion\n",
        "Test_redu_KBest4 = SelectKBest4.transform(S_Test) #<----- Conjunto de prueba\n",
        "\n",
        "#Reentrenamos con el conjunto reducido\n",
        "SVM_KBest4 = sklearn.svm.SVC(kernel='linear', probability=False)\n",
        "grid_KBest4 = sklearn.model_selection.GridSearchCV(SVM_KBest4, param_grid={'C' : [0.0001, 0.001, 0.1]}, cv=ps) \n",
        "\n",
        "time4 = time.time() #<------- Inicio del entrenamiento\n",
        "grid_KBest4.fit(Entrena_Vali_redu_KBest4, Entrena_Vali_class)\n",
        "time5 = time.time() #<-------- Final del entrenamiento\n",
        "\n",
        "#Vemos los hiperparametros del grid\n",
        "print('Los mejores hiperparametros son: '+str(grid_KBest4.best_params_))\n",
        "#Vemos el score\n",
        "print('El score es: '+str(grid_KBest4.best_score_))\n",
        "#Vemos el tiempo de entrenamiento\n",
        "tiempo2 = time5-time4\n",
        "print('El tiempo de entrenamiento es de: '+str(tiempo2))\n",
        "\n",
        "#Obtenemos el mejor estimador\n",
        "estim_KBest4 = grid_KBest4.best_estimator_\n",
        "\n",
        "#Obtenemos la prediccion del clasificador sobre el conjunto de validacion\n",
        "predi_vali_KBest4 = estim_KBest4.predict(Vali_redu_KBest4)\n",
        "\n",
        "#Obtenemos la matriz de confusión\n",
        "Confu3 = sklearn.metrics.confusion_matrix(Vali_class, predi_vali_KBest4, normalize='true')\n",
        "\n",
        "#Mostramos la matriz de confusion\n",
        "matrix3 = sns.heatmap(Confu3, annot=True)\n",
        "\n",
        "#Obtenemos el accuracy del SVM lineal\n",
        "accuracy_KBest4 = sklearn.metrics.accuracy_score(Vali_class, predi_vali_KBest4)\n",
        "                                              \n",
        "print('El accuracy al usar un conjunto de caracteristicas reducidas (4 caracteristicas) es: '+str(accuracy_KBest4))"
      ],
      "execution_count": 59,
      "outputs": [
        {
          "output_type": "stream",
          "text": [
            "Las caracteristicas seleccionadas son: ['preg', 'plas', 'mass', 'age']\n",
            "Los mejores hiperparametros son: {'C': 0.1}\n",
            "El score es: 0.7077922077922078\n",
            "El tiempo de entrenamiento es de: 0.020557880401611328\n",
            "El accuracy al usar un conjunto de caracteristicas reducidas (4 caracteristicas) es: 0.7337662337662337\n"
          ],
          "name": "stdout"
        },
        {
          "output_type": "display_data",
          "data": {
            "image/png": "[encoded data removed]",
            "text/plain": [
              "<Figure size 432x288 with 2 Axes>"
            ]
          },
          "metadata": {
            "tags": [],
            "needs_background": "light"
          }
        }
      ]
    },
    {
      "cell_type": "markdown",
      "metadata": {
        "id": "zGlMmVaFTNJj"
      },
      "source": [
        "\n",
        "\n",
        "> Actividad J\n",
        "\n"
      ]
    },
    {
      "cell_type": "code",
      "metadata": {
        "colab": {
          "base_uri": "https://localhost:8080/",
          "height": 370
        },
        "id": "OVWNC8vuTReN",
        "outputId": "9bf03677-bcb6-4e44-ebe6-f9a826e423aa"
      },
      "source": [
        "#Obtenemos el conjunto de caracteristicas (2)\n",
        "SelectKBest2 = sklearn.feature_selection.SelectKBest(k=2).fit(S_Entrena, Entrena_class)\n",
        "caract_KBest2 = SelectKBest2.get_support(indices=False) #<--- Array que indica las caracteristicas consideradas\n",
        "#Recorremos la lista de caracteristicas seleccionadas y las añadimos a una lista donde se consideran\n",
        "#solo a las caracteristicas seleccionadas\n",
        "select_carac_KBest2 = []\n",
        "for i in range(len(caract_KBest2)):\n",
        "  if caract_KBest2[i] == True:\n",
        "    select_carac_KBest2.append(nombres[i])\n",
        "print('Las caracteristicas seleccionadas son: '+str(select_carac_KBest2))\n",
        "\n",
        "#Obtenemos los distintos conjuntos con las caracteristicas reducidas\n",
        "Entrena_Vali_redu_KBest2 = SelectKBest2.transform(Entrena_Vali) #<--- Entrenamiento y validacion concatenados\n",
        "Vali_redu_KBest2 = SelectKBest2.transform(S_Vali) #<----- Conjunto de validacion\n",
        "Test_redu_KBest2 = SelectKBest2.transform(S_Test) #<----- Conjunto de prueba\n",
        "\n",
        "#Reentrenamos con el conjunto reducido\n",
        "SVM_KBest2 = sklearn.svm.SVC(kernel='linear', probability=False)\n",
        "grid_KBest2 = sklearn.model_selection.GridSearchCV(SVM_KBest2, param_grid={'C' : [0.0001, 0.001, 0.1]}, cv=ps) \n",
        "\n",
        "time6 = time.time() #<------- Inicio del entrenamiento\n",
        "grid_KBest2.fit(Entrena_Vali_redu_KBest2, Entrena_Vali_class)\n",
        "time7 = time.time() #<-------- Final del entrenamiento\n",
        "\n",
        "#Vemos los hiperparametros del grid\n",
        "print('Los mejores hiperparametros son: '+str(grid_KBest2.best_params_))\n",
        "#Vemos el score\n",
        "print('El score es: '+str(grid_KBest2.best_score_))\n",
        "#Vemos el tiempo de entrenamiento\n",
        "tiempo3 = time7-time6\n",
        "print('El tiempo de entrenamiento es de: '+str(tiempo3))\n",
        "\n",
        "#Obtenemos el mejor estimador\n",
        "estim_KBest2 = grid_KBest2.best_estimator_\n",
        "\n",
        "#Obtenemos la prediccion del clasificador sobre el conjunto de validacion\n",
        "predi_vali_KBest2 = estim_KBest2.predict(Vali_redu_KBest2)\n",
        "\n",
        "#Obtenemos la matriz de confusión\n",
        "Confu4 = sklearn.metrics.confusion_matrix(Vali_class, predi_vali_KBest2, normalize='true')\n",
        "\n",
        "#Mostramos la matriz de confusion\n",
        "matrix4 = sns.heatmap(Confu4, annot=True)\n",
        "\n",
        "#Obtenemos el accuracy del SVM lineal\n",
        "accuracy_KBest2 = sklearn.metrics.accuracy_score(Vali_class, predi_vali_KBest2)\n",
        "                                              \n",
        "print('El accuracy al usar un conjunto de caracteristicas reducidas (2 caracteristicas) es: '+str(accuracy_KBest2))"
      ],
      "execution_count": 60,
      "outputs": [
        {
          "output_type": "stream",
          "text": [
            "Las caracteristicas seleccionadas son: ['plas', 'mass']\n",
            "Los mejores hiperparametros son: {'C': 0.1}\n",
            "El score es: 0.7142857142857143\n",
            "El tiempo de entrenamiento es de: 0.015395879745483398\n",
            "El accuracy al usar un conjunto de caracteristicas reducidas (2 caracteristicas) es: 0.7012987012987013\n"
          ],
          "name": "stdout"
        },
        {
          "output_type": "display_data",
          "data": {
            "image/png": "[encoded data removed]",
            "text/plain": [
              "<Figure size 432x288 with 2 Axes>"
            ]
          },
          "metadata": {
            "tags": [],
            "needs_background": "light"
          }
        }
      ]
    },
    {
      "cell_type": "markdown",
      "metadata": {
        "id": "QNEPYLQnTSJ0"
      },
      "source": [
        "\n",
        "\n",
        "> Actividad K\n",
        "\n"
      ]
    },
    {
      "cell_type": "code",
      "metadata": {
        "id": "yR1VWBWrTUSR",
        "colab": {
          "base_uri": "https://localhost:8080/",
          "height": 333
        },
        "outputId": "9dcce614-c667-4917-e274-4b1efd4f3654"
      },
      "source": [
        "#Definimos el clasificador Random Forest\n",
        "Forest1 = sklearn.ensemble.RandomForestClassifier(max_depth=3)\n",
        "#Definimos el grid y lo entrenamos\n",
        "grid_Forest1 = sklearn.model_selection.GridSearchCV(Forest1, {'n_estimators' : [50, 100, 150, 200, 250]}, cv=ps)\n",
        "\n",
        "time8 = time.time() #<-- Inicio del entrenamiento\n",
        "grid_Forest1.fit(Entrena_Vali, Entrena_Vali_class) \n",
        "time9 = time.time() #Final del entrenamiento\n",
        "\n",
        "#Vemos los hiperparametros del grid\n",
        "print('Los mejores hiperparametros son: '+str(grid_Forest1.best_params_))\n",
        "#Vemos el score\n",
        "print('El score es: '+str(grid_Forest1.best_score_))\n",
        "#Vemos el tiempo de entrenamiento\n",
        "tiempo4 = time9-time8\n",
        "print('El tiempo de entrenamiento es: '+str(tiempo4))\n",
        "\n",
        "#Obtenemos el mejor estimador\n",
        "estim_Forest1 = grid_Forest1.best_estimator_\n",
        "\n",
        "#Obtenemos la prediccion del clasificador sobre el conjunto de validacion\n",
        "predi_vali_Forest1 = estim_Forest1.predict(S_Vali)\n",
        "\n",
        "#Obtenemos la matriz de confusion\n",
        "Confu5 = sklearn.metrics.confusion_matrix(Vali_class, predi_vali_Forest1, normalize='true')\n",
        "\n",
        "#Mostramos la matriz de confusion\n",
        "matrix5 = sns.heatmap(Confu5, annot=True)\n",
        "\n",
        "#Obtenemos el accuracy\n",
        "accuracy_Forest1 = sklearn.metrics.accuracy_score(Vali_class, predi_vali_Forest1)\n",
        "print('El accuracy es: '+str(accuracy_Forest1))"
      ],
      "execution_count": 61,
      "outputs": [
        {
          "output_type": "stream",
          "text": [
            "Los mejores hiperparametros son: {'n_estimators': 50}\n",
            "El score es: 0.7142857142857143\n",
            "El tiempo de entrenamiento es: 1.1715118885040283\n",
            "El accuracy es: 0.7597402597402597\n"
          ],
          "name": "stdout"
        },
        {
          "output_type": "display_data",
          "data": {
            "image/png": "[encoded data removed]",
            "text/plain": [
              "<Figure size 432x288 with 2 Axes>"
            ]
          },
          "metadata": {
            "tags": [],
            "needs_background": "light"
          }
        }
      ]
    },
    {
      "cell_type": "markdown",
      "metadata": {
        "id": "rMIGbBZnTVIR"
      },
      "source": [
        "\n",
        "\n",
        "> Actividad L\n",
        "\n"
      ]
    },
    {
      "cell_type": "code",
      "metadata": {
        "id": "lhUNWC_KTVgB",
        "colab": {
          "base_uri": "https://localhost:8080/",
          "height": 350
        },
        "outputId": "c12b8ce0-1fb7-4b07-8e86-956a5d8cba88"
      },
      "source": [
        "#Hacemos el model\n",
        "model_Forest1 = sklearn.feature_selection.SelectFromModel(estim_Forest1)\n",
        "\n",
        "#Entrenamos el model con el conjunto de entrenamiento\n",
        "model_Forest1.fit(S_Entrena, Entrena_class)\n",
        "\n",
        "#Obtenemos las caracteristicas seleccionadas\n",
        "caracte_Forest1 = model_Forest1.get_support(indices=False)\n",
        "\n",
        "#Recorremos la lista de caracteristicas seleccionadas y las añadimos a una lista donde se consideran\n",
        "#solo a las caracteristicas seleccionadas\n",
        "select_carac_Forest1 = []\n",
        "for i in range(len(caracte_Forest1)):\n",
        "  if caracte_Forest1[i] == True:\n",
        "    select_carac_Forest1.append(nombres[i])\n",
        "print('Las caracteristicas seleccionadas son: '+str(select_carac_Forest1))\n",
        "\n",
        "#Obtenemos los distintos conjuntos con las caracteristicas reducidas\n",
        "Entrena_Vali_redu_Forest1 = model_Forest1.transform(Entrena_Vali) #<--- Entrenamiento y validacion concatenados\n",
        "Vali_redu_Forest1 = model_Forest1.transform(S_Vali) #<----- Conjunto de validacion\n",
        "Test_redu_Forest1 = model_Forest1.transform(S_Test) #<----- Conjunto de prueba\n",
        "\n",
        "#Reentrenamos con el conjunto reducido\n",
        "Forest2 = sklearn.ensemble.RandomForestClassifier(max_depth=3)\n",
        "grid_Forest2 = sklearn.model_selection.GridSearchCV(Forest2, param_grid={'n_estimators' : [50, 100, 150, 200, 250]}, cv=ps)\n",
        "\n",
        "time10 = time.time() #<------- Inicio del entrenamiento\n",
        "grid_Forest2.fit(Entrena_Vali_redu_Forest1, Entrena_Vali_class)\n",
        "time11 = time.time() #<-------- Final del entrenamiento\n",
        "\n",
        "#Vemos los hiperparametros del grid\n",
        "print('Los mejores hiperparametros son: '+str(grid_Forest2.best_params_))\n",
        "#Vemos el score\n",
        "print('El score es: '+str(grid_Forest2.best_score_))\n",
        "#Obtenemos el tiempo de entrenamiento\n",
        "tiempo5 = time11-time10\n",
        "print('El tiempo de entrenamiento es de: '+str(tiempo5))\n",
        "\n",
        "#Obtenemos el mejor estimador\n",
        "estim_Forest2 = grid_Forest2.best_estimator_\n",
        "\n",
        "#Obtenemos la predicion del randomForest sobre el conjunto de validacion\n",
        "predi_vali_Forest2 = estim_Forest2.predict(Vali_redu_Forest1)\n",
        "\n",
        "#Obtenemos la matriz de confusion\n",
        "Confu6 = sklearn.metrics.confusion_matrix(Vali_class, predi_vali_Forest2, normalize='true')\n",
        "\n",
        "#Mostramos la matriz de confusion\n",
        "matrix6 = sns.heatmap(Confu6, annot=True)\n",
        "\n",
        "#Obtenemos el accuracy \n",
        "accuracy_Forest2 = sklearn.metrics.accuracy_score(Vali_class, predi_vali_Forest2)\n",
        "print('El accuracy es de: '+str(accuracy_Forest2))"
      ],
      "execution_count": 62,
      "outputs": [
        {
          "output_type": "stream",
          "text": [
            "Las caracteristicas seleccionadas son: ['plas', 'mass', 'age']\n",
            "Los mejores hiperparametros son: {'n_estimators': 50}\n",
            "El score es: 0.7272727272727273\n",
            "El tiempo de entrenamiento es de: 1.1783244609832764\n",
            "El accuracy es de: 0.7467532467532467\n"
          ],
          "name": "stdout"
        },
        {
          "output_type": "display_data",
          "data": {
            "image/png": "[encoded data removed]",
            "text/plain": [
              "<Figure size 432x288 with 2 Axes>"
            ]
          },
          "metadata": {
            "tags": [],
            "needs_background": "light"
          }
        }
      ]
    },
    {
      "cell_type": "markdown",
      "metadata": {
        "id": "qi0ZQsWbTVvb"
      },
      "source": [
        "\n",
        "\n",
        "> Actividad M\n",
        "\n"
      ]
    },
    {
      "cell_type": "code",
      "metadata": {
        "id": "_0MEfcW5TWKS",
        "colab": {
          "base_uri": "https://localhost:8080/",
          "height": 350
        },
        "outputId": "79a6074c-565e-4ef5-f12a-38c808c453b5"
      },
      "source": [
        "#Obtenemos el conjunto de caracteristicas (4)\n",
        "Forest_SelectKBest4 = sklearn.feature_selection.SelectKBest(k=4).fit(S_Entrena, Entrena_class)\n",
        "caract_Forest_KBest4 = Forest_SelectKBest4.get_support(indices=False) #<- Array que indica las caracteristicas consideradas\n",
        "#Recorremos la lista de caracteristicas seleccionadas y las añadimos a una lista donde se consideran\n",
        "#solo a las caracteristicas seleccionadas\n",
        "select_carac_Forest_KBest4 = []\n",
        "for i in range(len(caract_Forest_KBest4)):\n",
        "  if caract_Forest_KBest4[i] == True:\n",
        "    select_carac_Forest_KBest4.append(nombres[i])\n",
        "print('Las caracteristicas seleccionadas son: '+str(select_carac_Forest_KBest4))\n",
        "\n",
        "#Obtenemos los distintos conjuntos con las caracteristicas reducidas\n",
        "Entrena_Vali_redu_Forest_KBest4 = Forest_SelectKBest4.transform(Entrena_Vali) #<--- Entrenamiento y validacion concatenados\n",
        "Vali_redu_Forest_KBest4 = Forest_SelectKBest4.transform(S_Vali) #<----- Conjunto de validacion\n",
        "Test_redu_Forest_KBest4 = Forest_SelectKBest4.transform(S_Test) #<----- Conjunto de prueba\n",
        "\n",
        "#Reentrenamos con el conjunto reducido\n",
        "Forest_KBest4 = sklearn.ensemble.RandomForestClassifier(max_depth=3)\n",
        "grid_Forest_KBest4 = sklearn.model_selection.GridSearchCV(Forest_KBest4, param_grid={'n_estimators' : [50, 100, 150, 200, 250]}, cv=ps) \n",
        "\n",
        "time12 = time.time() #<------- Inicio del entrenamiento\n",
        "grid_Forest_KBest4.fit(Entrena_Vali_redu_Forest_KBest4, Entrena_Vali_class)\n",
        "time13 = time.time() #<-------- Final del entrenamiento\n",
        "\n",
        "#Vemos los hiperparametros del grid\n",
        "print('Los mejores hiperparametros son: '+str(grid_Forest_KBest4.best_params_))\n",
        "#Vemos el score\n",
        "print('El score es: '+str(grid_Forest_KBest4.best_score_))\n",
        "#Obtenemos el tiempo de entrenamiento\n",
        "tiempo6 = time13-time12\n",
        "print('El tiempo de entrenamiento es de: '+str(tiempo6))\n",
        "\n",
        "#Obtenemos el mejor estimador\n",
        "estim_Forest_KBest4 = grid_Forest_KBest4.best_estimator_\n",
        "\n",
        "#Obtenemos la prediccion del clasificador sobre el conjunto de validacion\n",
        "predi_vali_Forest_KBest4 = estim_Forest_KBest4.predict(Vali_redu_Forest_KBest4)\n",
        "\n",
        "#Obtenemos la matriz de confusión\n",
        "Confu7 = sklearn.metrics.confusion_matrix(Vali_class, predi_vali_Forest_KBest4, normalize='true')\n",
        "\n",
        "#Mostramos la matriz de confusion\n",
        "matrix7 = sns.heatmap(Confu7, annot=True)\n",
        "\n",
        "#Obtenemos el accuracy del SVM lineal\n",
        "accuracy_Forest_KBest4 = sklearn.metrics.accuracy_score(Vali_class, predi_vali_Forest_KBest4)\n",
        "                                              \n",
        "print('El accuracy al usar un conjunto de caracteristicas reducidas (4 caracteristicas) es: '+str(accuracy_Forest_KBest4))"
      ],
      "execution_count": 63,
      "outputs": [
        {
          "output_type": "stream",
          "text": [
            "Las caracteristicas seleccionadas son: ['preg', 'plas', 'mass', 'age']\n",
            "Los mejores hiperparametros son: {'n_estimators': 50}\n",
            "El score es: 0.7207792207792207\n",
            "El tiempo de entrenamiento es de: 1.180464506149292\n",
            "El accuracy al usar un conjunto de caracteristicas reducidas (4 caracteristicas) es: 0.7662337662337663\n"
          ],
          "name": "stdout"
        },
        {
          "output_type": "display_data",
          "data": {
            "image/png": "[encoded data removed]",
            "text/plain": [
              "<Figure size 432x288 with 2 Axes>"
            ]
          },
          "metadata": {
            "tags": [],
            "needs_background": "light"
          }
        }
      ]
    },
    {
      "cell_type": "markdown",
      "metadata": {
        "id": "g9wjY_9_TWeI"
      },
      "source": [
        "\n",
        "\n",
        "> Actividad N\n",
        "\n"
      ]
    },
    {
      "cell_type": "code",
      "metadata": {
        "id": "el_eM7r2TWt3",
        "colab": {
          "base_uri": "https://localhost:8080/",
          "height": 350
        },
        "outputId": "ae3e6e2b-1ae2-4ba4-847d-8df0d01c60d0"
      },
      "source": [
        "#Obtenemos el conjunto de caracteristicas (2)\n",
        "Forest_SelectKBest2 = sklearn.feature_selection.SelectKBest(k=2).fit(S_Entrena, Entrena_class)\n",
        "caract_Forest_KBest2 = Forest_SelectKBest2.get_support(indices=False) #<- Array que indica las caracteristicas consideradas\n",
        "#Recorremos la lista de caracteristicas seleccionadas y las añadimos a una lista donde se consideran\n",
        "#solo a las caracteristicas seleccionadas\n",
        "select_carac_Forest_KBest2 = []\n",
        "for i in range(len(caract_Forest_KBest2)):\n",
        "  if caract_Forest_KBest2[i] == True:\n",
        "    select_carac_Forest_KBest2.append(nombres[i])\n",
        "print('Las caracteristicas seleccionadas son: '+str(select_carac_Forest_KBest2))\n",
        "\n",
        "#Obtenemos los distintos conjuntos con las caracteristicas reducidas\n",
        "Entrena_Vali_redu_Forest_KBest2 = Forest_SelectKBest2.transform(Entrena_Vali) #<--- Entrenamiento y validacion concatenados\n",
        "Vali_redu_Forest_KBest2 = Forest_SelectKBest2.transform(S_Vali) #<----- Conjunto de validacion\n",
        "Test_redu_Forest_KBest2 = Forest_SelectKBest2.transform(S_Test) #<----- Conjunto de prueba\n",
        "\n",
        "#Reentrenamos con el conjunto reducido\n",
        "Forest_KBest2 = sklearn.ensemble.RandomForestClassifier(max_depth=3)\n",
        "grid_Forest_KBest2 = sklearn.model_selection.GridSearchCV(Forest_KBest2, param_grid={'n_estimators' : [50, 100, 150, 200, 250]}, cv=ps) \n",
        "\n",
        "time14 = time.time() #<------- Inicio del entrenamiento\n",
        "grid_Forest_KBest2.fit(Entrena_Vali_redu_Forest_KBest2, Entrena_Vali_class)\n",
        "time15 = time.time() #<-------- Final del entrenamiento\n",
        "\n",
        "#Vemos los hiperparametros del grid\n",
        "print('Los mejores hiperparametros son: '+str(grid_Forest_KBest2.best_params_))\n",
        "#Vemos el score\n",
        "print('El score es: '+str(grid_Forest_KBest2.best_score_))\n",
        "#Vemos el tiempo de entrenamiento\n",
        "tiempo7 = time15-time14\n",
        "print('El tiempo de entrenamiento es de: '+str(tiempo7))\n",
        "\n",
        "#Obtenemos el mejor estimador\n",
        "estim_Forest_KBest2 = grid_Forest_KBest2.best_estimator_\n",
        "\n",
        "#Obtenemos la prediccion del clasificador sobre el conjunto de validacion\n",
        "predi_vali_Forest_KBest2 = estim_Forest_KBest2.predict(Vali_redu_Forest_KBest2)\n",
        "\n",
        "#Obtenemos la matriz de confusión\n",
        "Confu8 = sklearn.metrics.confusion_matrix(Vali_class, predi_vali_Forest_KBest2, normalize='true')\n",
        "\n",
        "#Mostramos la matriz de confusion\n",
        "matrix8 = sns.heatmap(Confu8, annot=True)\n",
        "\n",
        "#Obtenemos el accuracy del SVM lineal\n",
        "accuracy_Forest_KBest2 = sklearn.metrics.accuracy_score(Vali_class, predi_vali_Forest_KBest2)\n",
        "                                              \n",
        "print('El accuracy al usar un conjunto de caracteristicas reducidas (2 caracteristicas) es: '+str(accuracy_Forest_KBest2))"
      ],
      "execution_count": 64,
      "outputs": [
        {
          "output_type": "stream",
          "text": [
            "Las caracteristicas seleccionadas son: ['plas', 'mass']\n",
            "Los mejores hiperparametros son: {'n_estimators': 200}\n",
            "El score es: 0.7077922077922078\n",
            "El tiempo de entrenamiento es de: 1.3751015663146973\n",
            "El accuracy al usar un conjunto de caracteristicas reducidas (2 caracteristicas) es: 0.7402597402597403\n"
          ],
          "name": "stdout"
        },
        {
          "output_type": "display_data",
          "data": {
            "image/png": "[encoded data removed]",
            "text/plain": [
              "<Figure size 432x288 with 2 Axes>"
            ]
          },
          "metadata": {
            "tags": [],
            "needs_background": "light"
          }
        }
      ]
    },
    {
      "cell_type": "markdown",
      "metadata": {
        "id": "ZmHNvkCFTW8v"
      },
      "source": [
        "\n",
        "\n",
        "> Actividad O\n",
        "\n"
      ]
    },
    {
      "cell_type": "code",
      "metadata": {
        "id": "Afh9qBtiTXQJ"
      },
      "source": [
        "#El estimador SVM lineal sin reducir caracteristicas es estim_lin\n",
        "#El estimador del SVM lineal con caracteristicas reducidas al usar SelectFromModel es estim_lin2 \n",
        "#El estimador del SVM lineal al seleccionar a las 4 mejores caracteristicas es estim_KBest4\n",
        "#El estimador del SVM lineal al seleccionar a las 2 mejores caracteristicas es estim_KBest2\n",
        "#El randomForest sin reducir caracteristicas es estim_Forest1\n",
        "#El randomForest con caracteristicas reducidas al usar SelectFromModel es estim_Forest2\n",
        "#El randomFores al seleccionar a las 4 mejores caracteristicas es estim_Forest_KBest4\n",
        "#El randomForest al seleccionar a las 2 mejores caracteristicas es estim_Forest_KBest2\n",
        "\n",
        "#Obtenemos las prediciones de los distintos clasificadores sobre el conjunto Test\n",
        "predi_test_lin = estim_lin.predict(S_Test) #SVM lineal sin reducir caracteristicas\n",
        "predi_test_lin2 = estim_lin2.predict(Test_redu) #SVM lineal con SelectFromModel\n",
        "predi_test_KBest4 = estim_KBest4.predict(Test_redu_KBest4) #SVM lineal con las 4 mejores caracteristicas\n",
        "predi_test_KBest2 = estim_KBest2.predict(Test_redu_KBest2) #SVM lineal con las 2 mejores caracteristicas\n",
        "predi_test_Forest1 = estim_Forest1.predict(S_Test) #Random Forest sin reducir caracteristicas\n",
        "predi_test_Forest2 = estim_Forest2.predict(Test_redu_Forest1) #Random Forest con SelectFromModel\n",
        "predi_test_Forest_KBest4 = estim_Forest_KBest4.predict(Test_redu_Forest_KBest4) #Random Forest con las 4 mejores caracteristicas\n",
        "predi_test_Forest_KBest2 = estim_Forest_KBest2.predict(Test_redu_Forest_KBest2) #Random Forest con las 2 mejores caracteristicas\n",
        "\n",
        "#Obtenemos las matrices de confusion\n",
        "Confu_lin = sklearn.metrics.confusion_matrix(Test_class, predi_test_lin, normalize='true')\n",
        "Confu_lin2 = sklearn.metrics.confusion_matrix(Test_class, predi_test_lin2, normalize='true')\n",
        "Confu_KBest4 = sklearn.metrics.confusion_matrix(Test_class, predi_test_KBest4, normalize='true')\n",
        "Confu_KBest2 = sklearn.metrics.confusion_matrix(Test_class, predi_test_KBest2, normalize='true')\n",
        "Confu_Forest1 = sklearn.metrics.confusion_matrix(Test_class, predi_test_Forest1, normalize='true')\n",
        "Confu_Forest2 = sklearn.metrics.confusion_matrix(Test_class, predi_test_Forest2, normalize='true')\n",
        "Confu_Forest_KBest4 = sklearn.metrics.confusion_matrix(Test_class, predi_test_Forest_KBest4, normalize='true')\n",
        "Confu_Forest_KBest2 = sklearn.metrics.confusion_matrix(Test_class, predi_test_Forest_KBest2, normalize='true')\n",
        "\n",
        "#Obtenemos los accuracys\n",
        "accuracy_f_lin = sklearn.metrics.accuracy_score(Test_class, predi_test_lin)\n",
        "accuracy_f_lin2 = sklearn.metrics.accuracy_score(Test_class, predi_test_lin2)\n",
        "accuracy_f_KBest4 = sklearn.metrics.accuracy_score(Test_class, predi_test_KBest4)\n",
        "accuracy_f_KBest2 = sklearn.metrics.accuracy_score(Test_class, predi_test_KBest2)\n",
        "accuracy_f_Forest1 = sklearn.metrics.accuracy_score(Test_class, predi_test_Forest1)\n",
        "accuracy_f_Forest2 = sklearn.metrics.accuracy_score(Test_class, predi_test_Forest2)\n",
        "accuracy_f_Forest_KBest4 = sklearn.metrics.accuracy_score(Test_class, predi_test_Forest_KBest4)\n",
        "accuracy_f_Forest_KBest2 = sklearn.metrics.accuracy_score(Test_class, predi_test_Forest_KBest2)"
      ],
      "execution_count": 65,
      "outputs": []
    },
    {
      "cell_type": "code",
      "metadata": {
        "colab": {
          "base_uri": "https://localhost:8080/",
          "height": 371
        },
        "id": "Bq1h28ktVBls",
        "outputId": "86bfeae1-d138-4434-fbef-985b65ce63d8"
      },
      "source": [
        "print('Para el caso del SVM lineal sin reducir caracteristicas se escoge')\n",
        "print('el mejor clasificador y se evalua el conjunto de Test obteniendo lo siguiente:')\n",
        "print('')\n",
        "\n",
        "print('El accuracy sobre el conjunto de test es: '+str(accuracy_f_lin))\n",
        "print('La matriz de confusión es: ')\n",
        "sns.heatmap(Confu_lin, annot=True)"
      ],
      "execution_count": 66,
      "outputs": [
        {
          "output_type": "stream",
          "text": [
            "Para el caso del SVM lineal sin reducir caracteristicas se escoge\n",
            "el mejor clasificador y se evalua el conjunto de Test obteniendo lo siguiente:\n",
            "\n",
            "El accuracy sobre el conjunto de test es: 0.7727272727272727\n",
            "La matriz de confusión es: \n"
          ],
          "name": "stdout"
        },
        {
          "output_type": "execute_result",
          "data": {
            "text/plain": [
              "<matplotlib.axes._subplots.AxesSubplot at 0x7fe66e53bdd0>"
            ]
          },
          "metadata": {
            "tags": []
          },
          "execution_count": 66
        },
        {
          "output_type": "display_data",
          "data": {
            "image/png": "[encoded data removed]",
            "text/plain": [
              "<Figure size 432x288 with 2 Axes>"
            ]
          },
          "metadata": {
            "tags": [],
            "needs_background": "light"
          }
        }
      ]
    },
    {
      "cell_type": "code",
      "metadata": {
        "colab": {
          "base_uri": "https://localhost:8080/",
          "height": 367
        },
        "id": "p2xX02LIs90G",
        "outputId": "2ef52114-9a6c-409a-b454-5b9f6049bf01"
      },
      "source": [
        "print('Para el caso del SVM lineal, al utilizar la funcion SelectFromModel, escoger')\n",
        "print('el mejor clasificador y evaluarlo sobre el conjunto de Test se obtuvo lo siguiente:')\n",
        "print('')\n",
        "\n",
        "print('El accuracy sobre el conjunto de test es: '+str(accuracy_f_lin2))\n",
        "print('La matriz de confusión es: ')\n",
        "sns.heatmap(Confu_lin2, annot=True)"
      ],
      "execution_count": 67,
      "outputs": [
        {
          "output_type": "stream",
          "text": [
            "Para el caso del SVM lineal, al utilizar la funcion SelectFromModel, escoger\n",
            "el mejor clasificador y evaluarlo sobre el conjunto de Test se obtuvo lo siguiente:\n",
            "\n",
            "El accuracy sobre el conjunto de test es: 0.7662337662337663\n",
            "La matriz de confusión es: \n"
          ],
          "name": "stdout"
        },
        {
          "output_type": "execute_result",
          "data": {
            "text/plain": [
              "<matplotlib.axes._subplots.AxesSubplot at 0x7fe66e250c90>"
            ]
          },
          "metadata": {
            "tags": []
          },
          "execution_count": 67
        },
        {
          "output_type": "display_data",
          "data": {
            "image/png": "[encoded data removed]",
            "text/plain": [
              "<Figure size 432x288 with 2 Axes>"
            ]
          },
          "metadata": {
            "tags": [],
            "needs_background": "light"
          }
        }
      ]
    },
    {
      "cell_type": "code",
      "metadata": {
        "colab": {
          "base_uri": "https://localhost:8080/",
          "height": 384
        },
        "id": "NLTuHwI7tkAI",
        "outputId": "8a8c6b47-cac4-4bf9-cbda-521ec530a1dd"
      },
      "source": [
        "print('Para el caso del SVM lineal, usando un filtro para las caracteristicas escogiendo')\n",
        "print('las 4 mejores, tomando el mejor clasificador y evaluarlo sobre el conjunto de Test')\n",
        "print('se obtuvo lo siguiente:') \n",
        "print('')\n",
        "\n",
        "print('El accuracy sobre el conjunto de test es: '+str(accuracy_f_KBest4))\n",
        "print('La matriz de confusión es: ')\n",
        "sns.heatmap(Confu_KBest4, annot=True)"
      ],
      "execution_count": 68,
      "outputs": [
        {
          "output_type": "stream",
          "text": [
            "Para el caso del SVM lineal, usando un filtro para las caracteristicas escogiendo\n",
            "las 4 mejores, tomando el mejor clasificador y evaluarlo sobre el conjunto de Test\n",
            "se obtuvo lo siguiente:\n",
            "\n",
            "El accuracy sobre el conjunto de test es: 0.7532467532467533\n",
            "La matriz de confusión es: \n"
          ],
          "name": "stdout"
        },
        {
          "output_type": "execute_result",
          "data": {
            "text/plain": [
              "<matplotlib.axes._subplots.AxesSubplot at 0x7fe66e1fa290>"
            ]
          },
          "metadata": {
            "tags": []
          },
          "execution_count": 68
        },
        {
          "output_type": "display_data",
          "data": {
            "image/png": "[encoded data removed]",
            "text/plain": [
              "<Figure size 432x288 with 2 Axes>"
            ]
          },
          "metadata": {
            "tags": [],
            "needs_background": "light"
          }
        }
      ]
    },
    {
      "cell_type": "code",
      "metadata": {
        "colab": {
          "base_uri": "https://localhost:8080/",
          "height": 384
        },
        "id": "mGLagpakuCgl",
        "outputId": "1b0e2849-d8a9-4d18-daa4-f0d0bd29425b"
      },
      "source": [
        "print('Para el caso del SVM lineal, usando un filtro para las caracteristicas escogiendo')\n",
        "print('las 2 mejores, tomando el mejor clasificador y evaluarlo sobre el conjunto de Test')\n",
        "print('se obtuvo lo siguiente:') \n",
        "print('')\n",
        "\n",
        "print('El accuracy sobre el conjunto de test es: '+str(accuracy_f_KBest2))\n",
        "print('La matriz de confusión es: ')\n",
        "sns.heatmap(Confu_KBest2, annot=True)"
      ],
      "execution_count": 69,
      "outputs": [
        {
          "output_type": "stream",
          "text": [
            "Para el caso del SVM lineal, usando un filtro para las caracteristicas escogiendo\n",
            "las 2 mejores, tomando el mejor clasificador y evaluarlo sobre el conjunto de Test\n",
            "se obtuvo lo siguiente:\n",
            "\n",
            "El accuracy sobre el conjunto de test es: 0.7662337662337663\n",
            "La matriz de confusión es: \n"
          ],
          "name": "stdout"
        },
        {
          "output_type": "execute_result",
          "data": {
            "text/plain": [
              "<matplotlib.axes._subplots.AxesSubplot at 0x7fe66e114e90>"
            ]
          },
          "metadata": {
            "tags": []
          },
          "execution_count": 69
        },
        {
          "output_type": "display_data",
          "data": {
            "image/png": "[encoded data removed]",
            "text/plain": [
              "<Figure size 432x288 with 2 Axes>"
            ]
          },
          "metadata": {
            "tags": [],
            "needs_background": "light"
          }
        }
      ]
    },
    {
      "cell_type": "code",
      "metadata": {
        "colab": {
          "base_uri": "https://localhost:8080/",
          "height": 367
        },
        "id": "SU4MazhhVZBg",
        "outputId": "a7ab8331-3daa-4d07-907c-9e29b0904ddc"
      },
      "source": [
        "print('Para el caso del Random Forest sin reducir caracteristicas se escoge')\n",
        "print('el mejor clasificador y se evalua el conjunto de Test obteniendo lo siguiente:')\n",
        "print('')\n",
        "\n",
        "print('El accuracy sobre el conjunto de test es: '+str(accuracy_f_Forest1))\n",
        "print('La matriz de confusión es: ')\n",
        "sns.heatmap(Confu_Forest1, annot=True)"
      ],
      "execution_count": 70,
      "outputs": [
        {
          "output_type": "stream",
          "text": [
            "Para el caso del Random Forest sin reducir caracteristicas se escoge\n",
            "el mejor clasificador y se evalua el conjunto de Test obteniendo lo siguiente:\n",
            "\n",
            "El accuracy sobre el conjunto de test es: 0.7532467532467533\n",
            "La matriz de confusión es: \n"
          ],
          "name": "stdout"
        },
        {
          "output_type": "execute_result",
          "data": {
            "text/plain": [
              "<matplotlib.axes._subplots.AxesSubplot at 0x7fe66e674f90>"
            ]
          },
          "metadata": {
            "tags": []
          },
          "execution_count": 70
        },
        {
          "output_type": "display_data",
          "data": {
            "image/png": "[encoded data removed]",
            "text/plain": [
              "<Figure size 432x288 with 2 Axes>"
            ]
          },
          "metadata": {
            "tags": [],
            "needs_background": "light"
          }
        }
      ]
    },
    {
      "cell_type": "code",
      "metadata": {
        "colab": {
          "base_uri": "https://localhost:8080/",
          "height": 367
        },
        "id": "gOpACdCEuNVb",
        "outputId": "4da28189-080c-4e08-8862-389c408226af"
      },
      "source": [
        "print('Para el caso del Random Forest, al utilizar la funcion SelectFromModel, escoger')\n",
        "print('el mejor clasificador y evaluarlo sobre el conjunto de Test se obtuvo lo siguiente:')\n",
        "print('')\n",
        "\n",
        "print('El accuracy sobre el conjunto de test es: '+str(accuracy_f_Forest2))\n",
        "print('La matriz de confusión es: ')\n",
        "sns.heatmap(Confu_Forest2, annot=True)"
      ],
      "execution_count": 71,
      "outputs": [
        {
          "output_type": "stream",
          "text": [
            "Para el caso del Random Forest, al utilizar la funcion SelectFromModel, escoger\n",
            "el mejor clasificador y evaluarlo sobre el conjunto de Test se obtuvo lo siguiente:\n",
            "\n",
            "El accuracy sobre el conjunto de test es: 0.7467532467532467\n",
            "La matriz de confusión es: \n"
          ],
          "name": "stdout"
        },
        {
          "output_type": "execute_result",
          "data": {
            "text/plain": [
              "<matplotlib.axes._subplots.AxesSubplot at 0x7fe67bf95750>"
            ]
          },
          "metadata": {
            "tags": []
          },
          "execution_count": 71
        },
        {
          "output_type": "display_data",
          "data": {
            "image/png": "[encoded data removed]",
            "text/plain": [
              "<Figure size 432x288 with 2 Axes>"
            ]
          },
          "metadata": {
            "tags": [],
            "needs_background": "light"
          }
        }
      ]
    },
    {
      "cell_type": "code",
      "metadata": {
        "colab": {
          "base_uri": "https://localhost:8080/",
          "height": 384
        },
        "id": "Qzd7SLThubmO",
        "outputId": "1250ca94-1373-4966-b449-42fac6d8d240"
      },
      "source": [
        "print('Para el caso del Random Forest, usando un filtro para las caracteristicas escogiendo')\n",
        "print('las 4 mejores, tomando el mejor clasificador y evaluarlo sobre el conjunto de Test')\n",
        "print('se obtuvo lo siguiente:') \n",
        "print('')\n",
        "\n",
        "print('El accuracy sobre el conjunto de test es: '+str(accuracy_f_Forest_KBest4))\n",
        "print('La matriz de confusión es: ')\n",
        "sns.heatmap(Confu_Forest_KBest4, annot=True)"
      ],
      "execution_count": 72,
      "outputs": [
        {
          "output_type": "stream",
          "text": [
            "Para el caso del Random Forest, usando un filtro para las caracteristicas escogiendo\n",
            "las 4 mejores, tomando el mejor clasificador y evaluarlo sobre el conjunto de Test\n",
            "se obtuvo lo siguiente:\n",
            "\n",
            "El accuracy sobre el conjunto de test es: 0.7467532467532467\n",
            "La matriz de confusión es: \n"
          ],
          "name": "stdout"
        },
        {
          "output_type": "execute_result",
          "data": {
            "text/plain": [
              "<matplotlib.axes._subplots.AxesSubplot at 0x7fe673a91f50>"
            ]
          },
          "metadata": {
            "tags": []
          },
          "execution_count": 72
        },
        {
          "output_type": "display_data",
          "data": {
            "image/png": "[encoded data removed]",
            "text/plain": [
              "<Figure size 432x288 with 2 Axes>"
            ]
          },
          "metadata": {
            "tags": [],
            "needs_background": "light"
          }
        }
      ]
    },
    {
      "cell_type": "code",
      "metadata": {
        "colab": {
          "base_uri": "https://localhost:8080/",
          "height": 385
        },
        "id": "dMpRusMLub5c",
        "outputId": "64d26603-f17e-4aa5-ddec-b7176b116483"
      },
      "source": [
        "print('Para el caso del Random Forest, usando un filtro para las caracteristicas escogiendo')\n",
        "print('las 2 mejores, tomando el mejor clasificador y evaluarlo sobre el conjunto de Test')\n",
        "print('se obtuvo lo siguiente:') \n",
        "print('')\n",
        "\n",
        "print('El accuracy sobre el conjunto de test es: '+str(accuracy_f_Forest_KBest2))\n",
        "print('La matriz de confusión es: ')\n",
        "sns.heatmap(Confu_Forest_KBest2, annot=True)"
      ],
      "execution_count": 73,
      "outputs": [
        {
          "output_type": "stream",
          "text": [
            "Para el caso del Random Forest, usando un filtro para las caracteristicas escogiendo\n",
            "las 2 mejores, tomando el mejor clasificador y evaluarlo sobre el conjunto de Test\n",
            "se obtuvo lo siguiente:\n",
            "\n",
            "El accuracy sobre el conjunto de test es: 0.7727272727272727\n",
            "La matriz de confusión es: \n"
          ],
          "name": "stdout"
        },
        {
          "output_type": "execute_result",
          "data": {
            "text/plain": [
              "<matplotlib.axes._subplots.AxesSubplot at 0x7fe66ebe80d0>"
            ]
          },
          "metadata": {
            "tags": []
          },
          "execution_count": 73
        },
        {
          "output_type": "display_data",
          "data": {
            "image/png": "[encoded data removed]",
            "text/plain": [
              "<Figure size 432x288 with 2 Axes>"
            ]
          },
          "metadata": {
            "tags": [],
            "needs_background": "light"
          }
        }
      ]
    },
    {
      "cell_type": "code",
      "metadata": {
        "colab": {
          "base_uri": "https://localhost:8080/"
        },
        "id": "ltrQgyyynbwc",
        "outputId": "f86e4374-a8c8-4e2e-ab47-ca4265dd2063"
      },
      "source": [
        "caracte_lin"
      ],
      "execution_count": 74,
      "outputs": [
        {
          "output_type": "execute_result",
          "data": {
            "text/plain": [
              "array([False,  True, False, False, False,  True, False, False])"
            ]
          },
          "metadata": {
            "tags": []
          },
          "execution_count": 74
        }
      ]
    }
  ]
}